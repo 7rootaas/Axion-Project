{
 "cells": [
  {
   "cell_type": "code",
   "execution_count": null,
   "id": "34bb705c",
   "metadata": {},
   "outputs": [],
   "source": [
    "from numpy import *\n",
    "from numpy.random import *\n",
    "import matplotlib as mpl\n",
    "import matplotlib.pyplot as plt\n",
    "import matplotlib.cm as cm\n",
    "import matplotlib.gridspec as gridspec\n",
    "from matplotlib.colors import ListedColormap\n",
    "from matplotlib import colors\n",
    "import matplotlib.ticker as mticker\n",
    "from mpl_toolkits.axes_grid1 import make_axes_locatable\n",
    "import matplotlib.cm as cm\n",
    "from scipy.stats import norm\n",
    "import matplotlib.patheffects as pe\n",
    "\n",
    "pltdir = 'plots/'\n",
    "pltdir_png = pltdir+'plots_png/'\n",
    "\n",
    "#==============================================================================#\n",
    "\n",
    "class AxionElectron():\n",
    "    \n",
    "       def RedGiants(ax,col=[0.0, 0.66, 0.42],text_pos=[0.2e-8,2e-13],text_on=True,zorder=0.5,fs=30,lw=2,**kwargs):\n",
    "        # Red Giants arXiv:[2007.03694]\n",
    "        dat = loadtxt(\"limit_data/AxionElectron/RedGiants_HighMass.txt\")\n",
    "        plt.fill_between(dat[:,0],dat[:,1],y2=1e0,edgecolor=None,facecolor=col,zorder=zorder)\n",
    "        plt.plot(dat[:,0],dat[:,1],color='k',alpha=1,zorder=zorder,lw=lw)\n",
    "        if text_on: plt.text(text_pos[0],text_pos[1],r'{\\bf Red giants (}$\\omega${\\bf Cen)}',fontsize=fs,color='w',clip_on=True,path_effects=line_background(1.5,'k'),**kwargs)\n",
    "        return\n",
    "    \n",
    "        "
   ]
  }
 ],
 "metadata": {
  "kernelspec": {
   "display_name": "Python 3 (ipykernel)",
   "language": "python",
   "name": "python3"
  },
  "language_info": {
   "codemirror_mode": {
    "name": "ipython",
    "version": 3
   },
   "file_extension": ".py",
   "mimetype": "text/x-python",
   "name": "python",
   "nbconvert_exporter": "python",
   "pygments_lexer": "ipython3",
   "version": "3.9.13"
  }
 },
 "nbformat": 4,
 "nbformat_minor": 5
}
